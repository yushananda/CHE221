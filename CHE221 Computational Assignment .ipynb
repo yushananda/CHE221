{
 "cells": [
  {
   "cell_type": "code",
   "execution_count": 1,
   "id": "3d6f5679",
   "metadata": {},
   "outputs": [],
   "source": [
    "import math\n",
    "import numpy as np\n",
    "import matplotlib.pyplot as plt"
   ]
  },
  {
   "cell_type": "markdown",
   "id": "36b1954e",
   "metadata": {},
   "source": [
    "Using Gibbs' Phase rule, we see that the degree of freedom (DOF) is 2, meaning we need to specify two variables to get all the information required for the system. Given that we are working with an isobaric system, P is specified. We can assume x and solve further. "
   ]
  },
  {
   "cell_type": "markdown",
   "id": "cdec71be",
   "metadata": {},
   "source": [
    "<script type=\"text/javascript\" src=\"http://cdn.mathjax.org/mathjax/latest/MathJax.js?config=default\"></script>\n",
    "First, we use Antoine's equation to get initial values for T<sub>i</sub><sup>sat</sup>, i=1,2. Put P as P<sub>sat</sub>. \\\n",
    "P = 101.325 kPa (Given)"
   ]
  },
  {
   "cell_type": "markdown",
   "id": "55ff8d26",
   "metadata": {},
   "source": [
    "T<sub>i</sub><sup>sat</sup> = B<sub>i</sub> / (A<sub>i</sub> - log P) - C<sub>i</sub> \\\n",
    "A<sub>1</sub> = 8.11220, B<sub>1</sub> = 1592.864, C<sub>1</sub> = 226.184 \\\n",
    "A<sub>2</sub> = 8.07131, B<sub>2</sub> = 1730.630, C<sub>2</sub> = 233.426 "
   ]
  },
  {
   "cell_type": "code",
   "execution_count": 2,
   "id": "1a05e2fd",
   "metadata": {
    "scrolled": true
   },
   "outputs": [],
   "source": [
    "P, A1, B1, C1, A2, B2, C2 = 760, 8.11220, 1592.864, 226.184, 8.07131, 1730.630, 233.426\n",
    "T1_sat = B1/(A1 - math.log10(P)) - C1\n",
    "T2_sat = B2/(A2 - math.log10(P)) - C2"
   ]
  },
  {
   "cell_type": "code",
   "execution_count": 3,
   "id": "e27f869b",
   "metadata": {},
   "outputs": [],
   "source": [
    "x1 = np.linspace(0, 1.0, num = 101)\n",
    "x2 = 1 - x1"
   ]
  },
  {
   "cell_type": "code",
   "execution_count": 4,
   "id": "54420dde",
   "metadata": {},
   "outputs": [],
   "source": [
    "v1l, v2l, A12, A21, R = 58.69, 18.07, 337.3891, 974.6748, 1.9872\n",
    "y = []\n",
    "Temp = []"
   ]
  },
  {
   "cell_type": "markdown",
   "id": "dea891f8",
   "metadata": {},
   "source": [
    "As an initial guess value, we take T to be equal to the weighted mean of T<sub>1</sub><sup>sat</sup> and T<sub>2</sub><sup>sat</sup>, with the weights being equal to the molar fractions of the two components, i.e. x<sub>1</sub> and x<sub>2</sub>. Once we have this value of temperature, we can calculate the activity coefficients $\\gamma1$ and $\\gamma2$, as well as the saturation pressures P<sub>1</sub><sup>sat</sup> and P<sub>2</sub><sup>sat</sup>. Now, we can get an estimate of P<sub>1</sub><sup>sat</sup>, by using the values of $\\gamma1$ and $\\gamma2$. "
   ]
  },
  {
   "cell_type": "code",
   "execution_count": 5,
   "id": "42e18528",
   "metadata": {},
   "outputs": [],
   "source": [
    "for i in range (101):\n",
    "    T = T1_sat*x1[i] + T2_sat*x2[i]\n",
    "    del12 = v2l/v1l * math.exp(-A12/(R*(T+273.15)))\n",
    "    del21 = v1l/v2l * math.exp(-A21/(R*(T+273.15)))\n",
    "    gamma1 = math.exp(-math.log(x1[i] + del12*x2[i]) + x2[i]*(del12/(x1[i] + del12*x2[i]) - del21/(x2[i] + del21*x1[i])))\n",
    "    gamma2 = math.exp(-math.log(x2[i] + del21*x1[i]) - x1[i]*(del12/(x1[i] + del12*x2[i]) - del21/(x2[i] + del21*x1[i])))\n",
    "    P1sat = 10**(A1 - B1/(T + C1))\n",
    "    P2sat = 10**(A2 - B2/(T + C2))\n",
    "    alpha = P1sat/P2sat\n",
    "    err = 1\n",
    "    while(err > 0.01):\n",
    "        T_old = T\n",
    "        P1sat = P/((x1[i]*gamma1) + (x2[i]*gamma2/alpha))\n",
    "        T = B1/(A1 - math.log10(P1sat)) - C1\n",
    "        P1sat = 10**(A1 - B1/(T + C1))\n",
    "        P2sat = 10**(A2 - B2/(T + C2))\n",
    "        alpha = P1sat/P2sat\n",
    "        del12 = v2l/v1l * math.exp(-A12/(R*(T+273.15)))\n",
    "        del21 = v1l/v2l * math.exp(-A21/(R*(T+273.15)))\n",
    "        gamma1 = math.exp(-math.log(x1[i] + del12*x2[i]) + x2[i]*(del12/(x1[i] + del12*x2[i]) - del21/(x2[i] + del21*x1[i])))\n",
    "        gamma2 = math.exp(-math.log(x2[i] + del21*x1[i]) - x1[i]*(del12/(x1[i] + del12*x2[i]) - del21/(x2[i] + del21*x1[i])))\n",
    "        err = abs((T - T_old)/T_old*100)\n",
    "    Temp.append(T)\n",
    "    y.append(x1[i]*gamma1*P1sat/P)\n",
    "exp_T = np.array([98.93, 97.05, 92.3, 88.32, 87.47, 85.49, 84.75, 84.34, 83.47, 83.42, 82.94, 82.5, 82.56, 81.99, 81.84, 80.90, 80.92, 79.91, 76.15])\n",
    "exp_x = np.array([0.0044, 0.0110, 0.0340, 0.0680, 0.0770, 0.1160, 0.1350, 0.1470, 0.1770, 0.1780, 0.2070, 0.2330, 0.2360, 0.2700, 0.2870, 0.3610, 0.3700, 0.4800, 0.9040])\n",
    "exp_y = np.array([0.0510, 0.1230, 0.2610, 0.3830, 0.4110, 0.4640, 0.4760, 0.4990, 0.5160, 0.5190, 0.5360, 0.5440, 0.5410, 0.5620, 0.5720, 0.6050, 0.6010, 0.6450, 0.9000])"
   ]
  },
  {
   "cell_type": "code",
   "execution_count": 6,
   "id": "7f9b84bd",
   "metadata": {},
   "outputs": [
    {
     "data": {
      "text/plain": [
       "<matplotlib.legend.Legend at 0x1f9e333c040>"
      ]
     },
     "execution_count": 6,
     "metadata": {},
     "output_type": "execute_result"
    },
    {
     "data": {
      "image/png": "[encoded data removed]",
      "text/plain": [
       "<Figure size 432x288 with 1 Axes>"
      ]
     },
     "metadata": {
      "needs_background": "light"
     },
     "output_type": "display_data"
    }
   ],
   "source": [
    "plt.plot(x1, Temp)\n",
    "plt.scatter(exp_x, exp_T)\n",
    "plt.plot(y, Temp)\n",
    "plt.scatter(exp_y, exp_T)\n",
    "plt.title(\"T vs x, y\")\n",
    "plt.xlabel('x, y')\n",
    "plt.ylabel('Temperature')\n",
    "plt.legend([\"x\", \"y\"], loc = \"upper right\")"
   ]
  },
  {
   "cell_type": "code",
   "execution_count": 7,
   "id": "4acf6be5",
   "metadata": {},
   "outputs": [
    {
     "data": {
      "text/plain": [
       "Text(0, 0.5, 'y')"
      ]
     },
     "execution_count": 7,
     "metadata": {},
     "output_type": "execute_result"
    },
    {
     "data": {
      "image/png": "[encoded data removed]",
      "text/plain": [
       "<Figure size 432x288 with 1 Axes>"
      ]
     },
     "metadata": {
      "needs_background": "light"
     },
     "output_type": "display_data"
    }
   ],
   "source": [
    "plt.plot(x1, y)\n",
    "plt.scatter(exp_x, exp_y)\n",
    "plt.title(\"y vs x\")\n",
    "plt.xlabel('x')\n",
    "plt.ylabel('y')"
   ]
  }
 ],
 "metadata": {
  "kernelspec": {
   "display_name": "Python 3 (ipykernel)",
   "language": "python",
   "name": "python3"
  },
  "language_info": {
   "codemirror_mode": {
    "name": "ipython",
    "version": 3
   },
   "file_extension": ".py",
   "mimetype": "text/x-python",
   "name": "python",
   "nbconvert_exporter": "python",
   "pygments_lexer": "ipython3",
   "version": "3.9.6"
  }
 },
 "nbformat": 4,
 "nbformat_minor": 5
}
